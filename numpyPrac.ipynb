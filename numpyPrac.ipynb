{
 "cells": [
  {
   "cell_type": "markdown",
   "id": "c1717649-5853-4215-a21c-3a4798e3c468",
   "metadata": {},
   "source": [
    "## Learning Numpy Arrays ##\n",
    "### What is an Array? ###\n",
    "Arrays are a fundamental data structure, and an important part of most programming languages. <br/>\n",
    "In Python, they are containers which are able to store more than one item at the same time. <br/>\n",
    "Specifically, they are an ordered collection of elements with every value being of the same data type. <br/>\n",
    "\n",
    "### What is the function arrange? ###\n",
    "The arange([start,] stop[, step,][, dtype]) : <br/>\n",
    "Returns an array with evenly spaced elements as per the interval. <br/>\n",
    "The interval mentioned is half-opened i.e. [Start, Stop) \n",
    "\n",
    "<br/><br/>\n",
    "https://jakevdp.github.io/PythonDataScienceHandbook/02.02-the-basics-of-numpy-arrays.html"
   ]
  },
  {
   "cell_type": "code",
   "execution_count": 1,
   "id": "ccd0be1d-31ea-46a4-8cb2-b35d8916b9c5",
   "metadata": {},
   "outputs": [],
   "source": [
    "import numpy as np"
   ]
  },
  {
   "cell_type": "code",
   "execution_count": 2,
   "id": "355ce1c1-98cb-47b6-ace4-e459806d3a53",
   "metadata": {},
   "outputs": [],
   "source": [
    "np.random.seed(0)  # seed for reproducibility\n",
    "\n",
    "x1 = np.random.randint(10, size=6)  # One-dimensional array\n",
    "x2 = np.random.randint(10, size=(3, 4))  # Two-dimensional array\n",
    "x3 = np.random.randint(10, size=(3, 4, 5))  # Three-dimensional array"
   ]
  },
  {
   "cell_type": "code",
   "execution_count": 3,
   "id": "be925766-af37-404c-a5b3-b7a12db69240",
   "metadata": {},
   "outputs": [
    {
     "data": {
      "text/plain": [
       "array([5, 0, 3, 3, 7, 9])"
      ]
     },
     "execution_count": 3,
     "metadata": {},
     "output_type": "execute_result"
    }
   ],
   "source": [
    "x1"
   ]
  },
  {
   "cell_type": "code",
   "execution_count": 4,
   "id": "53bb0e22-6423-46b5-8674-afa94de104fe",
   "metadata": {},
   "outputs": [
    {
     "data": {
      "text/plain": [
       "array([[3, 5, 2, 4],\n",
       "       [7, 6, 8, 8],\n",
       "       [1, 6, 7, 7]])"
      ]
     },
     "execution_count": 4,
     "metadata": {},
     "output_type": "execute_result"
    }
   ],
   "source": [
    "x2"
   ]
  },
  {
   "cell_type": "code",
   "execution_count": 5,
   "id": "f556602d-5276-4301-a0f9-e7694b7a83bc",
   "metadata": {},
   "outputs": [
    {
     "data": {
      "text/plain": [
       "array([[[8, 1, 5, 9, 8],\n",
       "        [9, 4, 3, 0, 3],\n",
       "        [5, 0, 2, 3, 8],\n",
       "        [1, 3, 3, 3, 7]],\n",
       "\n",
       "       [[0, 1, 9, 9, 0],\n",
       "        [4, 7, 3, 2, 7],\n",
       "        [2, 0, 0, 4, 5],\n",
       "        [5, 6, 8, 4, 1]],\n",
       "\n",
       "       [[4, 9, 8, 1, 1],\n",
       "        [7, 9, 9, 3, 6],\n",
       "        [7, 2, 0, 3, 5],\n",
       "        [9, 4, 4, 6, 4]]])"
      ]
     },
     "execution_count": 5,
     "metadata": {},
     "output_type": "execute_result"
    }
   ],
   "source": [
    "x3"
   ]
  },
  {
   "cell_type": "markdown",
   "id": "0c2e2132-51f6-4913-8c54-ab97c629873b",
   "metadata": {},
   "source": [
    "### Array Indexing ###"
   ]
  },
  {
   "cell_type": "code",
   "execution_count": 6,
   "id": "b2323a01-eb57-4241-82f0-bb865925d590",
   "metadata": {},
   "outputs": [
    {
     "data": {
      "text/plain": [
       "array([5, 0, 3, 3, 7, 9])"
      ]
     },
     "execution_count": 6,
     "metadata": {},
     "output_type": "execute_result"
    }
   ],
   "source": [
    "#Calling the first array\n",
    "x1"
   ]
  },
  {
   "cell_type": "code",
   "execution_count": 7,
   "id": "5b79111f-4398-49fd-8a55-90edc178c6b2",
   "metadata": {},
   "outputs": [
    {
     "data": {
      "text/plain": [
       "5"
      ]
     },
     "execution_count": 7,
     "metadata": {},
     "output_type": "execute_result"
    }
   ],
   "source": [
    "#call the first value in x1\n",
    "x1[0] # <-- reminds me of calling the first value in a list"
   ]
  },
  {
   "cell_type": "code",
   "execution_count": 8,
   "id": "c783ddb1-e6e1-4bfd-9f4b-ffbc1ffc9858",
   "metadata": {},
   "outputs": [
    {
     "data": {
      "text/plain": [
       "7"
      ]
     },
     "execution_count": 8,
     "metadata": {},
     "output_type": "execute_result"
    }
   ],
   "source": [
    "# calls the fifth value in the array\n",
    "x1[4]"
   ]
  },
  {
   "cell_type": "code",
   "execution_count": 9,
   "id": "fcb6f63b-d8dc-4622-b246-d007a9abcc44",
   "metadata": {},
   "outputs": [
    {
     "data": {
      "text/plain": [
       "9"
      ]
     },
     "execution_count": 9,
     "metadata": {},
     "output_type": "execute_result"
    }
   ],
   "source": [
    "# calls the last value in the array\n",
    "x1[-1]"
   ]
  },
  {
   "cell_type": "code",
   "execution_count": 10,
   "id": "a0c65c20-aa60-4b8d-aa57-2bf8025c6a19",
   "metadata": {},
   "outputs": [
    {
     "data": {
      "text/plain": [
       "7"
      ]
     },
     "execution_count": 10,
     "metadata": {},
     "output_type": "execute_result"
    }
   ],
   "source": [
    "# calls the fifth value in the array\n",
    "x1[-2]"
   ]
  },
  {
   "cell_type": "markdown",
   "id": "2edcdd94-ea52-4517-8086-f11f420c35d8",
   "metadata": {},
   "source": [
    "### Multi-Dimensional Arrarys ###\n",
    "In a multi-dimensional array, items can be accessed using a comma-separated tuple of indices:"
   ]
  },
  {
   "cell_type": "code",
   "execution_count": 11,
   "id": "1e238d79-6ed0-4f73-9b02-a84795e88b8e",
   "metadata": {},
   "outputs": [
    {
     "data": {
      "text/plain": [
       "array([[3, 5, 2, 4],\n",
       "       [7, 6, 8, 8],\n",
       "       [1, 6, 7, 7]])"
      ]
     },
     "execution_count": 11,
     "metadata": {},
     "output_type": "execute_result"
    }
   ],
   "source": [
    "x2"
   ]
  },
  {
   "cell_type": "code",
   "execution_count": 12,
   "id": "d37a15a9-3001-4871-8e47-8e7c92bf55d6",
   "metadata": {},
   "outputs": [
    {
     "data": {
      "text/plain": [
       "3"
      ]
     },
     "execution_count": 12,
     "metadata": {},
     "output_type": "execute_result"
    }
   ],
   "source": [
    "# call the first value in the first tuple(?) \n",
    "# Is it a tuple? I thought that tuples were in parathesis\n",
    "x2[0,0]"
   ]
  },
  {
   "cell_type": "code",
   "execution_count": 13,
   "id": "42b1ed32-9077-4b43-8a13-1e4f31ba2e57",
   "metadata": {},
   "outputs": [
    {
     "data": {
      "text/plain": [
       "1"
      ]
     },
     "execution_count": 13,
     "metadata": {},
     "output_type": "execute_result"
    }
   ],
   "source": [
    "# call the first value in the last tuple\n",
    "x2[2,0]"
   ]
  },
  {
   "cell_type": "code",
   "execution_count": 14,
   "id": "6e7bf09b-616f-4108-a1f3-cbed92189cc7",
   "metadata": {},
   "outputs": [
    {
     "data": {
      "text/plain": [
       "7"
      ]
     },
     "execution_count": 14,
     "metadata": {},
     "output_type": "execute_result"
    }
   ],
   "source": [
    "# call the last value in the last tuple\n",
    "x2[2,-1]"
   ]
  },
  {
   "cell_type": "markdown",
   "id": "c62e266f-3200-4a95-b946-b932801ec550",
   "metadata": {},
   "source": [
    "Values can also be modified using any of the above index notation:"
   ]
  },
  {
   "cell_type": "code",
   "execution_count": 15,
   "id": "12e59e2b-8e13-46f0-abd5-995e61af32e3",
   "metadata": {},
   "outputs": [
    {
     "data": {
      "text/plain": [
       "array([[12,  5,  2,  4],\n",
       "       [ 7,  6,  8,  8],\n",
       "       [ 1,  6,  7,  7]])"
      ]
     },
     "execution_count": 15,
     "metadata": {},
     "output_type": "execute_result"
    }
   ],
   "source": [
    "x2[0, 0] = 12\n",
    "x2"
   ]
  },
  {
   "cell_type": "markdown",
   "id": "dd590392-4ec5-450d-ae69-d5c2d0b24f0d",
   "metadata": {},
   "source": [
    "Keep in mind that, unlike Python lists, NumPy arrays have a fixed type. <br/> \n",
    "This means, for example, that if you attempt to insert a floating-point value to an integer array,<br/> \n",
    "the value will be silently truncated. Don't be caught unaware by this behavior!"
   ]
  },
  {
   "cell_type": "code",
   "execution_count": 16,
   "id": "61bdeedf-81ac-453a-9ca1-1542137ffe76",
   "metadata": {},
   "outputs": [
    {
     "data": {
      "text/plain": [
       "array([3, 0, 3, 3, 7, 9])"
      ]
     },
     "execution_count": 16,
     "metadata": {},
     "output_type": "execute_result"
    }
   ],
   "source": [
    "x1[0] = 3.14159  # this will be truncated! I guess you can't use decimals to change the first result?\n",
    "x1"
   ]
  },
  {
   "cell_type": "markdown",
   "id": "0504aea6-5ac0-486c-9709-37b3a6d86ae9",
   "metadata": {},
   "source": [
    "### What are Subarrays? ###\n",
    "A subarray is a contiguous part of array. An array that is inside another array. <br/>\n",
    "For example, consider the array [1, 2, 3, 4], There are 10 non-empty sub-arrays. <br/>\n",
    "The subarrays are (1), (2), (3), (4), (1,2), (2,3), (3,4), (1,2,3), (2,3,4) and (1,2,3,4)<br/><br/>\n",
    "\n",
    "It appears to me that subarrays are like the results you pull when slicing lists. <br/>\n",
    "I need to do some more research about the difference between <i>tuples, lists, and arrays.<i/>\n",
    "    \n",
    "They all look the same to me. <br/><br/>\n",
    "\n",
    "### Array Slicing: Accessing Subarrays ###\n",
    "Just as we can use square brackets to access individual array elements, <br/>\n",
    "we can also use them to access subarrays with the slice notation, <br/>\n",
    "marked by the colon (:) character. The NumPy slicing syntax follows that of the standard Python list; <br/>\n",
    "to access a slice of an array x, use this: (<b> x[start:stop:step] <b/>)<br/>\n",
    "\n",
    "If any of these are unspecified, they default to the values start=0, <br/>\n",
    "stop=size of dimension, step=1. We'll take a look at accessing sub-arrays in one dimension and in multiple dimensions."
   ]
  },
  {
   "cell_type": "markdown",
   "id": "8f636fc0-18c5-4bc3-9874-950ac2f5ea83",
   "metadata": {},
   "source": [
    "### One-Dimensional Subarrays ###"
   ]
  },
  {
   "cell_type": "code",
   "execution_count": 17,
   "id": "9be0c070-e4fd-4c74-9d13-e502caafa61e",
   "metadata": {},
   "outputs": [
    {
     "data": {
      "text/plain": [
       "array([0, 1, 2, 3, 4, 5, 6, 7, 8, 9])"
      ]
     },
     "execution_count": 17,
     "metadata": {},
     "output_type": "execute_result"
    }
   ],
   "source": [
    "x = np.arange(10)\n",
    "x"
   ]
  },
  {
   "cell_type": "code",
   "execution_count": null,
   "id": "df0c7628-8620-4013-9b11-575990c740e7",
   "metadata": {},
   "outputs": [],
   "source": []
  }
 ],
 "metadata": {
  "kernelspec": {
   "display_name": "Python 3 (ipykernel)",
   "language": "python",
   "name": "python3"
  },
  "language_info": {
   "codemirror_mode": {
    "name": "ipython",
    "version": 3
   },
   "file_extension": ".py",
   "mimetype": "text/x-python",
   "name": "python",
   "nbconvert_exporter": "python",
   "pygments_lexer": "ipython3",
   "version": "3.7.4"
  }
 },
 "nbformat": 4,
 "nbformat_minor": 5
}
